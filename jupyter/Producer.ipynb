{
 "cells": [
  {
   "cell_type": "code",
   "execution_count": 23,
   "metadata": {
    "id": "EBx03dOokk4w"
   },
   "outputs": [],
   "source": [
    "import json\n",
    "\n",
    "import tweepy\n",
    "from tweepy import OAuthHandler\n",
    "from tweepy import Stream,StreamListener\n",
    "from kafka import KafkaProducer, KafkaConsumer\n",
    "import time\n",
    "from datetime import datetime, timedelta"
   ]
  },
  {
   "cell_type": "code",
   "execution_count": 24,
   "metadata": {
    "id": "uAOhsJ_ekws3"
   },
   "outputs": [],
   "source": [
    "def normalize_timestamp(time):\n",
    "    mytime = datetime.strptime(time, '%Y-%m-%d %H:%M:%S')\n",
    "    mytime += timedelta(hours=1)\n",
    "    return (mytime.strftime('%Y-%m-%d %H:%M:%S'))\n",
    "\n",
    "def on_send_success(record_metadata):\n",
    "    # print(record_metadata.topic)\n",
    "    print(record_metadata)\n",
    "    # print(record_metadata.offset)\n",
    "\n",
    "def on_send_error(excp):\n",
    "    print(\"error\", excp)\n",
    "    log.error('I am an errback', exc_info=excp)"
   ]
  },
  {
   "cell_type": "code",
   "execution_count": 25,
   "metadata": {
    "id": "nGT8HLdNllTs"
   },
   "outputs": [],
   "source": [
    "producer = KafkaProducer(bootstrap_servers=['localhost:9092'],api_version=(3, 0, 0), value_serializer=lambda x: x.encode('utf-8'))\n",
    "topic_name = 'tugas-11-2'"
   ]
  },
  {
   "cell_type": "code",
   "execution_count": 26,
   "metadata": {},
   "outputs": [
    {
     "name": "stdout",
     "output_type": "stream",
     "text": [
      "True\n"
     ]
    }
   ],
   "source": [
    "print(producer.bootstrap_connected())"
   ]
  },
  {
   "cell_type": "code",
   "execution_count": 27,
   "metadata": {
    "id": "o8WBUNT6IEkx"
   },
   "outputs": [],
   "source": [
    "class Listener(StreamListener):\n",
    "  def __init__(self, time_limit=60):\n",
    "    self.start_time = time.time()\n",
    "    self.limit = time_limit\n",
    "    self.saveFile = open('tweet.json', 'a')\n",
    "    super(Listener, self).__init__()\n",
    "\n",
    "  def on_data(self, data):\n",
    "    if (time.time() - self.start_time) < self.limit:\n",
    "      self.saveFile.write(data)\n",
    "      self.saveFile.write('\\n')\n",
    "      producer.send(topic_name, data).add_callback(on_send_success).add_errback(on_send_error)\n",
    "      return True\n",
    "    else:\n",
    "      self.saveFile.close()\n",
    "      return False"
   ]
  },
  {
   "cell_type": "code",
   "execution_count": 28,
   "metadata": {
    "id": "N2cRmpwWtjx1"
   },
   "outputs": [],
   "source": [
    "consumer_key = \"TCHVbt5fbcttUMjNoNYPLsyzZ\"\n",
    "consumer_secret = \"wih7b5RUNRkezZouANXqm1aXfTq6A9SOcIcQxJ4WY5tW1b5WT0\"\n",
    "access_token = \"1000362437558743041-VnnlqzolYZfdp843j3ZaLVZ1oAnbiK\"\n",
    "access_token_secret = \"lmqiLv45HT3ckrnLAz0XaYdsBamkxzpszDRpbS9NeLAT5\"\n",
    "\n",
    "auth = tweepy.OAuthHandler(consumer_key, consumer_secret)\n",
    "auth.set_access_token(access_token, access_token_secret)"
   ]
  },
  {
   "cell_type": "code",
   "execution_count": 29,
   "metadata": {
    "colab": {
     "background_save": true,
     "base_uri": "https://localhost:8080/"
    },
    "id": "WA7c0nF7ZlGn",
    "outputId": "849aad8c-c73b-44a1-9ba4-b8be8f759624"
   },
   "outputs": [
    {
     "name": "stdout",
     "output_type": "stream",
     "text": [
      "RecordMetadata(topic='tugas-11-2', partition=0, topic_partition=TopicPartition(topic='tugas-11-2', partition=0), offset=72, timestamp=1638093806841, log_start_offset=0, checksum=None, serialized_key_size=-1, serialized_value_size=3064, serialized_header_size=-1)\n",
      "RecordMetadata(topic='tugas-11-2', partition=1, topic_partition=TopicPartition(topic='tugas-11-2', partition=1), offset=56, timestamp=1638093807386, log_start_offset=0, checksum=None, serialized_key_size=-1, serialized_value_size=4904, serialized_header_size=-1)\n",
      "RecordMetadata(topic='tugas-11-2', partition=0, topic_partition=TopicPartition(topic='tugas-11-2', partition=0), offset=73, timestamp=1638093808215, log_start_offset=0, checksum=None, serialized_key_size=-1, serialized_value_size=5196, serialized_header_size=-1)\n",
      "RecordMetadata(topic='tugas-11-2', partition=0, topic_partition=TopicPartition(topic='tugas-11-2', partition=0), offset=74, timestamp=1638093808395, log_start_offset=0, checksum=None, serialized_key_size=-1, serialized_value_size=9992, serialized_header_size=-1)\n",
      "RecordMetadata(topic='tugas-11-2', partition=1, topic_partition=TopicPartition(topic='tugas-11-2', partition=1), offset=57, timestamp=1638093808479, log_start_offset=0, checksum=None, serialized_key_size=-1, serialized_value_size=2367, serialized_header_size=-1)\n",
      "RecordMetadata(topic='tugas-11-2', partition=1, topic_partition=TopicPartition(topic='tugas-11-2', partition=1), offset=58, timestamp=1638093809619, log_start_offset=0, checksum=None, serialized_key_size=-1, serialized_value_size=4203, serialized_header_size=-1)\n",
      "RecordMetadata(topic='tugas-11-2', partition=0, topic_partition=TopicPartition(topic='tugas-11-2', partition=0), offset=75, timestamp=1638093809708, log_start_offset=0, checksum=None, serialized_key_size=-1, serialized_value_size=3366, serialized_header_size=-1)\n",
      "RecordMetadata(topic='tugas-11-2', partition=2, topic_partition=TopicPartition(topic='tugas-11-2', partition=2), offset=60, timestamp=1638093810657, log_start_offset=0, checksum=None, serialized_key_size=-1, serialized_value_size=6793, serialized_header_size=-1)\n",
      "RecordMetadata(topic='tugas-11-2', partition=2, topic_partition=TopicPartition(topic='tugas-11-2', partition=2), offset=61, timestamp=1638093811259, log_start_offset=0, checksum=None, serialized_key_size=-1, serialized_value_size=4288, serialized_header_size=-1)\n",
      "RecordMetadata(topic='tugas-11-2', partition=0, topic_partition=TopicPartition(topic='tugas-11-2', partition=0), offset=76, timestamp=1638093811483, log_start_offset=0, checksum=None, serialized_key_size=-1, serialized_value_size=9017, serialized_header_size=-1)\n",
      "RecordMetadata(topic='tugas-11-2', partition=2, topic_partition=TopicPartition(topic='tugas-11-2', partition=2), offset=62, timestamp=1638093811656, log_start_offset=0, checksum=None, serialized_key_size=-1, serialized_value_size=5205, serialized_header_size=-1)\n",
      "RecordMetadata(topic='tugas-11-2', partition=1, topic_partition=TopicPartition(topic='tugas-11-2', partition=1), offset=59, timestamp=1638093811715, log_start_offset=0, checksum=None, serialized_key_size=-1, serialized_value_size=3064, serialized_header_size=-1)\n",
      "RecordMetadata(topic='tugas-11-2', partition=1, topic_partition=TopicPartition(topic='tugas-11-2', partition=1), offset=60, timestamp=1638093811726, log_start_offset=0, checksum=None, serialized_key_size=-1, serialized_value_size=6449, serialized_header_size=-1)\n",
      "RecordMetadata(topic='tugas-11-2', partition=2, topic_partition=TopicPartition(topic='tugas-11-2', partition=2), offset=63, timestamp=1638093812325, log_start_offset=0, checksum=None, serialized_key_size=-1, serialized_value_size=2701, serialized_header_size=-1)\n",
      "RecordMetadata(topic='tugas-11-2', partition=0, topic_partition=TopicPartition(topic='tugas-11-2', partition=0), offset=77, timestamp=1638093814116, log_start_offset=0, checksum=None, serialized_key_size=-1, serialized_value_size=6848, serialized_header_size=-1)\n",
      "RecordMetadata(topic='tugas-11-2', partition=0, topic_partition=TopicPartition(topic='tugas-11-2', partition=0), offset=78, timestamp=1638093816605, log_start_offset=0, checksum=None, serialized_key_size=-1, serialized_value_size=3064, serialized_header_size=-1)\n",
      "RecordMetadata(topic='tugas-11-2', partition=2, topic_partition=TopicPartition(topic='tugas-11-2', partition=2), offset=64, timestamp=1638093816890, log_start_offset=0, checksum=None, serialized_key_size=-1, serialized_value_size=4823, serialized_header_size=-1)\n",
      "RecordMetadata(topic='tugas-11-2', partition=2, topic_partition=TopicPartition(topic='tugas-11-2', partition=2), offset=65, timestamp=1638093816938, log_start_offset=0, checksum=None, serialized_key_size=-1, serialized_value_size=2494, serialized_header_size=-1)\n",
      "RecordMetadata(topic='tugas-11-2', partition=0, topic_partition=TopicPartition(topic='tugas-11-2', partition=0), offset=79, timestamp=1638093818151, log_start_offset=0, checksum=None, serialized_key_size=-1, serialized_value_size=7347, serialized_header_size=-1)\n",
      "RecordMetadata(topic='tugas-11-2', partition=1, topic_partition=TopicPartition(topic='tugas-11-2', partition=1), offset=61, timestamp=1638093818483, log_start_offset=0, checksum=None, serialized_key_size=-1, serialized_value_size=4885, serialized_header_size=-1)\n",
      "RecordMetadata(topic='tugas-11-2', partition=2, topic_partition=TopicPartition(topic='tugas-11-2', partition=2), offset=66, timestamp=1638093819038, log_start_offset=0, checksum=None, serialized_key_size=-1, serialized_value_size=7489, serialized_header_size=-1)\n",
      "RecordMetadata(topic='tugas-11-2', partition=2, topic_partition=TopicPartition(topic='tugas-11-2', partition=2), offset=67, timestamp=1638093819865, log_start_offset=0, checksum=None, serialized_key_size=-1, serialized_value_size=8161, serialized_header_size=-1)\n",
      "RecordMetadata(topic='tugas-11-2', partition=2, topic_partition=TopicPartition(topic='tugas-11-2', partition=2), offset=68, timestamp=1638093821532, log_start_offset=0, checksum=None, serialized_key_size=-1, serialized_value_size=7385, serialized_header_size=-1)\n",
      "RecordMetadata(topic='tugas-11-2', partition=1, topic_partition=TopicPartition(topic='tugas-11-2', partition=1), offset=62, timestamp=1638093821834, log_start_offset=0, checksum=None, serialized_key_size=-1, serialized_value_size=6681, serialized_header_size=-1)\n",
      "RecordMetadata(topic='tugas-11-2', partition=0, topic_partition=TopicPartition(topic='tugas-11-2', partition=0), offset=80, timestamp=1638093822855, log_start_offset=0, checksum=None, serialized_key_size=-1, serialized_value_size=9123, serialized_header_size=-1)\n",
      "RecordMetadata(topic='tugas-11-2', partition=0, topic_partition=TopicPartition(topic='tugas-11-2', partition=0), offset=81, timestamp=1638093823016, log_start_offset=0, checksum=None, serialized_key_size=-1, serialized_value_size=8587, serialized_header_size=-1)\n",
      "RecordMetadata(topic='tugas-11-2', partition=2, topic_partition=TopicPartition(topic='tugas-11-2', partition=2), offset=69, timestamp=1638093823054, log_start_offset=0, checksum=None, serialized_key_size=-1, serialized_value_size=4552, serialized_header_size=-1)\n",
      "RecordMetadata(topic='tugas-11-2', partition=2, topic_partition=TopicPartition(topic='tugas-11-2', partition=2), offset=70, timestamp=1638093823104, log_start_offset=0, checksum=None, serialized_key_size=-1, serialized_value_size=3064, serialized_header_size=-1)\n",
      "RecordMetadata(topic='tugas-11-2', partition=1, topic_partition=TopicPartition(topic='tugas-11-2', partition=1), offset=63, timestamp=1638093823556, log_start_offset=0, checksum=None, serialized_key_size=-1, serialized_value_size=6646, serialized_header_size=-1)\n",
      "RecordMetadata(topic='tugas-11-2', partition=1, topic_partition=TopicPartition(topic='tugas-11-2', partition=1), offset=64, timestamp=1638093823753, log_start_offset=0, checksum=None, serialized_key_size=-1, serialized_value_size=10654, serialized_header_size=-1)\n",
      "RecordMetadata(topic='tugas-11-2', partition=2, topic_partition=TopicPartition(topic='tugas-11-2', partition=2), offset=71, timestamp=1638093823950, log_start_offset=0, checksum=None, serialized_key_size=-1, serialized_value_size=8714, serialized_header_size=-1)\n",
      "RecordMetadata(topic='tugas-11-2', partition=1, topic_partition=TopicPartition(topic='tugas-11-2', partition=1), offset=65, timestamp=1638093824516, log_start_offset=0, checksum=None, serialized_key_size=-1, serialized_value_size=7424, serialized_header_size=-1)\n",
      "RecordMetadata(topic='tugas-11-2', partition=0, topic_partition=TopicPartition(topic='tugas-11-2', partition=0), offset=82, timestamp=1638093824996, log_start_offset=0, checksum=None, serialized_key_size=-1, serialized_value_size=4468, serialized_header_size=-1)\n",
      "RecordMetadata(topic='tugas-11-2', partition=1, topic_partition=TopicPartition(topic='tugas-11-2', partition=1), offset=66, timestamp=1638093825215, log_start_offset=0, checksum=None, serialized_key_size=-1, serialized_value_size=7952, serialized_header_size=-1)\n",
      "RecordMetadata(topic='tugas-11-2', partition=0, topic_partition=TopicPartition(topic='tugas-11-2', partition=0), offset=83, timestamp=1638093825577, log_start_offset=0, checksum=None, serialized_key_size=-1, serialized_value_size=3978, serialized_header_size=-1)\n",
      "RecordMetadata(topic='tugas-11-2', partition=1, topic_partition=TopicPartition(topic='tugas-11-2', partition=1), offset=67, timestamp=1638093826789, log_start_offset=0, checksum=None, serialized_key_size=-1, serialized_value_size=6863, serialized_header_size=-1)\n",
      "RecordMetadata(topic='tugas-11-2', partition=1, topic_partition=TopicPartition(topic='tugas-11-2', partition=1), offset=68, timestamp=1638093827373, log_start_offset=0, checksum=None, serialized_key_size=-1, serialized_value_size=7768, serialized_header_size=-1)\n",
      "RecordMetadata(topic='tugas-11-2', partition=0, topic_partition=TopicPartition(topic='tugas-11-2', partition=0), offset=84, timestamp=1638093828101, log_start_offset=0, checksum=None, serialized_key_size=-1, serialized_value_size=2573, serialized_header_size=-1)\n",
      "RecordMetadata(topic='tugas-11-2', partition=2, topic_partition=TopicPartition(topic='tugas-11-2', partition=2), offset=72, timestamp=1638093828274, log_start_offset=0, checksum=None, serialized_key_size=-1, serialized_value_size=3064, serialized_header_size=-1)\n",
      "RecordMetadata(topic='tugas-11-2', partition=1, topic_partition=TopicPartition(topic='tugas-11-2', partition=1), offset=69, timestamp=1638093828455, log_start_offset=0, checksum=None, serialized_key_size=-1, serialized_value_size=8133, serialized_header_size=-1)\n",
      "RecordMetadata(topic='tugas-11-2', partition=2, topic_partition=TopicPartition(topic='tugas-11-2', partition=2), offset=73, timestamp=1638093828588, log_start_offset=0, checksum=None, serialized_key_size=-1, serialized_value_size=2006, serialized_header_size=-1)\n",
      "RecordMetadata(topic='tugas-11-2', partition=1, topic_partition=TopicPartition(topic='tugas-11-2', partition=1), offset=70, timestamp=1638093828940, log_start_offset=0, checksum=None, serialized_key_size=-1, serialized_value_size=3712, serialized_header_size=-1)\n",
      "RecordMetadata(topic='tugas-11-2', partition=1, topic_partition=TopicPartition(topic='tugas-11-2', partition=1), offset=71, timestamp=1638093829006, log_start_offset=0, checksum=None, serialized_key_size=-1, serialized_value_size=7024, serialized_header_size=-1)\n",
      "RecordMetadata(topic='tugas-11-2', partition=0, topic_partition=TopicPartition(topic='tugas-11-2', partition=0), offset=85, timestamp=1638093829441, log_start_offset=0, checksum=None, serialized_key_size=-1, serialized_value_size=2468, serialized_header_size=-1)\n",
      "RecordMetadata(topic='tugas-11-2', partition=0, topic_partition=TopicPartition(topic='tugas-11-2', partition=0), offset=86, timestamp=1638093832153, log_start_offset=0, checksum=None, serialized_key_size=-1, serialized_value_size=2399, serialized_header_size=-1)\n",
      "RecordMetadata(topic='tugas-11-2', partition=0, topic_partition=TopicPartition(topic='tugas-11-2', partition=0), offset=87, timestamp=1638093832764, log_start_offset=0, checksum=None, serialized_key_size=-1, serialized_value_size=9917, serialized_header_size=-1)\n",
      "RecordMetadata(topic='tugas-11-2', partition=0, topic_partition=TopicPartition(topic='tugas-11-2', partition=0), offset=88, timestamp=1638093832925, log_start_offset=0, checksum=None, serialized_key_size=-1, serialized_value_size=7251, serialized_header_size=-1)\n",
      "RecordMetadata(topic='tugas-11-2', partition=2, topic_partition=TopicPartition(topic='tugas-11-2', partition=2), offset=74, timestamp=1638093833023, log_start_offset=0, checksum=None, serialized_key_size=-1, serialized_value_size=3064, serialized_header_size=-1)\n",
      "RecordMetadata(topic='tugas-11-2', partition=1, topic_partition=TopicPartition(topic='tugas-11-2', partition=1), offset=72, timestamp=1638093833151, log_start_offset=0, checksum=None, serialized_key_size=-1, serialized_value_size=6501, serialized_header_size=-1)\n",
      "RecordMetadata(topic='tugas-11-2', partition=0, topic_partition=TopicPartition(topic='tugas-11-2', partition=0), offset=89, timestamp=1638093833239, log_start_offset=0, checksum=None, serialized_key_size=-1, serialized_value_size=9154, serialized_header_size=-1)\n",
      "RecordMetadata(topic='tugas-11-2', partition=2, topic_partition=TopicPartition(topic='tugas-11-2', partition=2), offset=75, timestamp=1638093834404, log_start_offset=0, checksum=None, serialized_key_size=-1, serialized_value_size=4092, serialized_header_size=-1)\n",
      "RecordMetadata(topic='tugas-11-2', partition=1, topic_partition=TopicPartition(topic='tugas-11-2', partition=1), offset=73, timestamp=1638093834889, log_start_offset=0, checksum=None, serialized_key_size=-1, serialized_value_size=4117, serialized_header_size=-1)\n",
      "RecordMetadata(topic='tugas-11-2', partition=2, topic_partition=TopicPartition(topic='tugas-11-2', partition=2), offset=76, timestamp=1638093834920, log_start_offset=0, checksum=None, serialized_key_size=-1, serialized_value_size=6496, serialized_header_size=-1)\n"
     ]
    }
   ],
   "source": [
    "stream = Stream(auth, Listener(time_limit=30))\n",
    "stream.filter(track=['Shopee'])"
   ]
  }
 ],
 "metadata": {
  "interpreter": {
   "hash": "3a7853f465984184c2db926f12cf0514f49bd82ebd08c64e7d47bb74214f72b4"
  },
  "kernelspec": {
   "display_name": "Python 3.8.3 64-bit ('base': conda)",
   "language": "python",
   "name": "python3"
  },
  "language_info": {
   "codemirror_mode": {
    "name": "ipython",
    "version": 3
   },
   "file_extension": ".py",
   "mimetype": "text/x-python",
   "name": "python",
   "nbconvert_exporter": "python",
   "pygments_lexer": "ipython3",
   "version": "3.8.3"
  },
  "orig_nbformat": 4
 },
 "nbformat": 4,
 "nbformat_minor": 2
}
